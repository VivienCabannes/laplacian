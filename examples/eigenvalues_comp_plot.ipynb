{
 "cells": [
  {
   "attachments": {},
   "cell_type": "markdown",
   "metadata": {},
   "source": [
    "# Learning Laplacian eigenfunctions in three dimensions"
   ]
  },
  {
   "cell_type": "code",
   "execution_count": 1,
   "metadata": {},
   "outputs": [],
   "source": [
    "import matplotlib.pyplot as plt\n",
    "import numpy as np\n",
    "\n",
    "from klap.utils import read_numpy_file, SAVE_DIR\n",
    "\n",
    "plt.rc(\"text\", usetex=True)\n",
    "plt.rc(\"text.latex\", preamble=r\"\\usepackage{mathtools}\")\n",
    "plt.rc(\"font\", size=10, family=\"serif\", serif=\"cm\")\n",
    "plt.rc(\"figure\", figsize=(2, 1.5))"
   ]
  },
  {
   "cell_type": "code",
   "execution_count": 2,
   "metadata": {},
   "outputs": [],
   "source": [
    "error = read_numpy_file(SAVE_DIR / \"new_eigenvalues_exponential.npy\")"
   ]
  },
  {
   "cell_type": "code",
   "execution_count": 3,
   "metadata": {},
   "outputs": [],
   "source": [
    "nb_trials = 100\n",
    "ns = np.logspace(1.5, 4, num=20).astype(int)\n",
    "ps = np.logspace(1.5, 3, num=5).astype(int)\n",
    "\n",
    "sigma = [0.1, 1, 10]\n",
    "# sigmas[\"polynomial\"] = [3, 4, 5, 6]\n",
    "# sigmas[\"polynomial_graph\"] = [3, 4, 5, 6]\n",
    "# sigmas[\"exponential\"] = [.1, 1, 10]\n",
    "# sigmas[\"exponential_graph\"] = [.1, 1, 10]\n",
    "# sigmas[\"gaussian\"] = [0.01, 0.1, 1, 10, 100]\n",
    "# sigmas[\"gaussian_graph\"] = [0.01, 0.1, 1, 10, 100]\n",
    "\n",
    "names = [\n",
    "    # \"exponential_graph\",\n",
    "    \"gaussian_graph\",\n",
    "    \"exponential\",\n",
    "    \"gaussian\",\n",
    "    # \"polynomial\",\n",
    "    # \"polynomial_graph\",\n",
    "]\n",
    "\n",
    "errors = {}\n",
    "for name in names:\n",
    "    shape = (nb_trials, len(ns), len(ps), len(sigma))\n",
    "    errors[name] = read_numpy_file(SAVE_DIR / f\"new_eigenvalues_{name}.npy\", shape=shape)"
   ]
  },
  {
   "cell_type": "code",
   "execution_count": 4,
   "metadata": {},
   "outputs": [
    {
     "name": "stderr",
     "output_type": "stream",
     "text": [
      "/home/vivc/Code/conda/envs/dev/lib/python3.10/site-packages/numpy/core/_methods.py:230: RuntimeWarning: invalid value encountered in subtract\n",
      "  x = asanyarray(arr - arrmean)\n"
     ]
    }
   ],
   "source": [
    "mean_errors = {}\n",
    "std_errors = {}\n",
    "for name in names:\n",
    "    mean_errors[name] = np.mean(errors[name], axis=0)\n",
    "    std_errors[name] = np.std(errors[name], axis=0)"
   ]
  },
  {
   "cell_type": "code",
   "execution_count": 5,
   "metadata": {},
   "outputs": [
    {
     "data": {
      "image/png": "[encoded data removed]",
      "text/plain": [
       "<Figure size 200x150 with 1 Axes>"
      ]
     },
     "metadata": {},
     "output_type": "display_data"
    }
   ],
   "source": [
    "fig, ax = plt.subplots()\n",
    "leg = []\n",
    "for name in names:\n",
    "    err = mean_errors[name].reshape((len(ns), -1))\n",
    "    ind = np.nanargmin(err, axis=1)\n",
    "    err = err[np.arange(len(ns)), ind]\n",
    "    a, = ax.plot(ns, err)\n",
    "    leg.append(a)\n",
    "    std = std_errors[name].reshape((len(ns), -1))[np.arange(len(ns)), ind]\n",
    "    ax.fill_between(ns, err-std, err+std, alpha=0.2)\n",
    "    # a, = ax.plot(ns, np.log10(best_errors[name]).min(axis=-1))\n",
    "\n",
    "name = \"exponential\"\n",
    "p_i = 2\n",
    "err = mean_errors[name][:, p_i, :]\n",
    "ind = np.argmin(err, axis=1)\n",
    "err = err[np.arange(len(ns)), ind]\n",
    "a, = ax.plot(ns, err)\n",
    "leg.append(a)\n",
    "std = std_errors[name][:, p_i, :][np.arange(len(ns)), ind]\n",
    "ax.fill_between(ns, err-std, err+std, alpha=0.2)\n",
    "\n",
    "ax.set_xscale(\"log\")\n",
    "ax.set_yscale(\"log\")\n",
    "\n",
    "ax.set_xlabel(r\"Samples $n$\")\n",
    "ax.set_ylabel(r\"Eigenvalues error\")\n",
    "\n",
    "fig.savefig(SAVE_DIR / \"eigenvalues.pdf\", bbox_inches=\"tight\")\n",
    "# plt.legend()"
   ]
  }
 ],
 "metadata": {
  "kernelspec": {
   "display_name": "Python 3.10.4 ('dev')",
   "language": "python",
   "name": "python3"
  },
  "language_info": {
   "codemirror_mode": {
    "name": "ipython",
    "version": 3
   },
   "file_extension": ".py",
   "mimetype": "text/x-python",
   "name": "python",
   "nbconvert_exporter": "python",
   "pygments_lexer": "ipython3",
   "version": "3.10.4"
  },
  "orig_nbformat": 4,
  "vscode": {
   "interpreter": {
    "hash": "eeb90ca8861134173ea2edb6120d403a551dc71a17254f2d5d4c5ae7c0686c83"
   }
  }
 },
 "nbformat": 4,
 "nbformat_minor": 2
}
