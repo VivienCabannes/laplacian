{
 "cells": [
  {
   "cell_type": "code",
   "execution_count": 1,
   "metadata": {},
   "outputs": [],
   "source": [
    "# Load libraries\n",
    "import logging\n",
    "\n",
    "import matplotlib.pyplot as plt\n",
    "import numpy as np\n",
    "\n",
    "from klap import (\n",
    "    ExponentialKernel,\n",
    "    GaussianKernel,\n",
    "    PolynomialKernel,\n",
    ")\n",
    "from klap.datasets.helper import (\n",
    "    meshgrid_3d,\n",
    "    plot_sphere_surface,\n",
    "    spherical_harmonic,\n",
    ")\n",
    "\n",
    "plt.rc(\"text\", usetex=True)\n",
    "plt.rc(\"text.latex\", preamble=r\"\\usepackage{mathtools}\")\n",
    "plt.rc(\"font\", size=10, family=\"serif\", serif=\"cm\")\n",
    "plt.rc(\"figure\", figsize=(2, 1.5))\n",
    "\n",
    "# Set logger\n",
    "logging.basicConfig(\n",
    "    level=logging.ERROR,\n",
    "    format=\"%(asctime)s %(levelname)s %(message)s\",\n",
    ")"
   ]
  },
  {
   "cell_type": "code",
   "execution_count": 2,
   "metadata": {},
   "outputs": [],
   "source": [
    "np.random.seed(0)\n",
    "nb_trials = 10\n",
    "n_test = 1000\n",
    "d = 2\n",
    "n = 1000\n",
    "p = 100\n",
    "gamma = 1\n",
    "\n",
    "kernel = GaussianKernel(sigma=1)\n",
    "\n",
    "def f(x):\n",
    "    return np.ones_like(x[:, 0])\n",
    "\n",
    "def f_derivative(x):\n",
    "    return np.zeros_like(x)\n",
    "\n",
    "# def f(x):\n",
    "#     return x[:, 0]\n",
    "\n",
    "# def f_derivative(x):\n",
    "#     out = np.zeros_like(x)\n",
    "#     out[:, 0] = 1\n",
    "#     return out\n",
    "\n",
    "# def f(x):\n",
    "#     return np.cos(3*np.pi*x[:, 0])\n",
    "\n",
    "# def f_derivative(x):\n",
    "#     out = -3*np.pi*np.sin(3*np.pi*x)\n",
    "#     out[:, 1:] = 0\n",
    "#     return out\n",
    "\n",
    "x = np.random.rand(n, d)\n",
    "y = f(x)\n",
    "t = f_derivative(x)\n",
    "x_test = np.zeros((n_test, d))\n",
    "x_test[:, 0] = np.linspace(0, 1, n_test)\n",
    "y_test = f(x_test)\n",
    "\n",
    "x_repr = x[:p]\n",
    "\n",
    "K = kernel.kernel(x_repr, x)\n",
    "A = K @ K.T\n",
    "b = K @ y\n",
    "a_plain = np.linalg.solve(A, b)\n",
    "\n",
    "A += gamma * kernel.laplacian(x_repr, x)\n",
    "T = x_repr @ t.T\n",
    "T -= (x * t).sum(axis=1)\n",
    "T *= K\n",
    "T *= 2\n",
    "b += gamma * T.sum(axis=1)\n",
    "a_hermite = np.linalg.solve(A, b)\n",
    "\n",
    "pred_hermite =  kernel.kernel(x_test, x_repr) @ a_hermite\n",
    "pred_plain =  kernel.kernel(x_test, x_repr) @ a_plain"
   ]
  },
  {
   "cell_type": "code",
   "execution_count": 3,
   "metadata": {},
   "outputs": [
    {
     "data": {
      "text/plain": [
       "<Figure size 700x400 with 0 Axes>"
      ]
     },
     "metadata": {},
     "output_type": "display_data"
    },
    {
     "data": {
      "image/png": "[encoded data removed]",
      "text/plain": [
       "<Figure size 200x150 with 1 Axes>"
      ]
     },
     "metadata": {},
     "output_type": "display_data"
    }
   ],
   "source": [
    "plt.figure(figsize=(7, 4))\n",
    "# plt.scatter(x[:, 0], y)\n",
    "\n",
    "fig, ax =plt.subplots(1, 1, figsize=(2, 1.5))\n",
    "a, = ax.plot(x_test[:, 0], y_test, 'k--')\n",
    "b, = ax.plot(x_test[:, 0], pred_hermite)\n",
    "c, = ax.plot(x_test[:, 0], pred_plain)\n",
    "ax.set_xticks([])\n",
    "ax.set_yticks([])\n",
    "ax.set_xlabel(r\"$x$\", fontsize=10)\n",
    "ax.set_ylabel(r\"$f(x)$\", fontsize=10)\n",
    "ax.set_title(\"Galerkin regression\", fontsize=10)\n",
    "ax.legend([a, b, c], [\"Signal\", \"Hermite regression\", \"Plain regression\"], fontsize=8)\n",
    "fig.savefig(\"hermite.pdf\", bbox_inches=\"tight\")"
   ]
  },
  {
   "attachments": {},
   "cell_type": "markdown",
   "metadata": {},
   "source": [
    "#### Error to learn the constant function one in dimension d"
   ]
  },
  {
   "cell_type": "code",
   "execution_count": 4,
   "metadata": {},
   "outputs": [
    {
     "name": "stdout",
     "output_type": "stream",
     "text": [
      "1,1,1,1,1,1,1,1,1,1,"
     ]
    }
   ],
   "source": [
    "nb_trials = 10\n",
    "n_test = 1000\n",
    "ds = [1]\n",
    "# ns = [30, 100, 300, 1000, 3000, 10000]\n",
    "ns = [30, 100, 300, 1000]\n",
    "n_max = max(ns)\n",
    "\n",
    "errors = np.zeros((nb_trials, len(ns), len(ds), 2))\n",
    "\n",
    "for i_t in range(nb_trials):\n",
    "    for i_d, d in enumerate(ds):\n",
    "        x_max = np.random.rand(n_max, d)\n",
    "        x_test = np.random.rand(n_test, d)\n",
    "        y_test = np.ones(n_test)\n",
    "\n",
    "        for i_n, n in enumerate(ns):\n",
    "            x = x_max[:n]\n",
    "            # x_repr = x[:int(np.sqrt(n))]\n",
    "            x_repr = x[:n]\n",
    "            y = np.ones(n)\n",
    "\n",
    "            K = kernel.kernel(x_repr, x)\n",
    "            A = kernel.laplacian(x_repr, x)\n",
    "            A += K @ K.T\n",
    "            b = K @ y\n",
    "            a_hermite = np.linalg.solve(A, b)\n",
    "            A = K @ K.T\n",
    "            a_plain = np.linalg.solve(A, b)\n",
    "\n",
    "            pred_hermite =  kernel.kernel(x_test, x_repr) @ a_hermite\n",
    "            pred_plain =  kernel.kernel(x_test, x_repr) @ a_plain\n",
    "\n",
    "            pred_hermite -= 1\n",
    "            pred_hermite **= 2\n",
    "            errors[i_t, i_n, i_d, 0] = pred_hermite.mean()\n",
    "            pred_plain -= 1 \n",
    "            pred_plain **= 2 \n",
    "            errors[i_t, i_n, i_d, 1] = pred_plain.mean()\n",
    "        print(d, flush=True, end=',')"
   ]
  },
  {
   "cell_type": "code",
   "execution_count": 5,
   "metadata": {},
   "outputs": [],
   "source": [
    "errors_mean = errors.mean(axis=0)\n",
    "errors_std = errors.std(axis=0)"
   ]
  },
  {
   "cell_type": "code",
   "execution_count": 6,
   "metadata": {},
   "outputs": [
    {
     "data": {
      "text/plain": [
       "[]"
      ]
     },
     "execution_count": 6,
     "metadata": {},
     "output_type": "execute_result"
    },
    {
     "data": {
      "image/png": "[encoded data removed]",
      "text/plain": [
       "<Figure size 500x300 with 1 Axes>"
      ]
     },
     "metadata": {},
     "output_type": "display_data"
    }
   ],
   "source": [
    "plt.figure(figsize=(5, 3))\n",
    "for i in range(len(ds)):\n",
    "    for j in range(2):\n",
    "        plt.plot(ns, errors_mean[:, i, j], color=f\"C{j}\")\n",
    "        plt.fill_between(\n",
    "            ns,\n",
    "            errors_mean[:, i, j] - errors_std[:, i, j],\n",
    "            errors_mean[:, i, j] + errors_std[:, i, j],\n",
    "            alpha=.1,\n",
    "            color = f\"C{j}\",\n",
    "        )\n",
    "plt.legend()\n",
    "plt.loglog()"
   ]
  },
  {
   "cell_type": "code",
   "execution_count": null,
   "metadata": {},
   "outputs": [],
   "source": []
  }
 ],
 "metadata": {
  "kernelspec": {
   "display_name": "dev",
   "language": "python",
   "name": "python3"
  },
  "language_info": {
   "codemirror_mode": {
    "name": "ipython",
    "version": 3
   },
   "file_extension": ".py",
   "mimetype": "text/x-python",
   "name": "python",
   "nbconvert_exporter": "python",
   "pygments_lexer": "ipython3",
   "version": "3.10.4"
  },
  "orig_nbformat": 4
 },
 "nbformat": 4,
 "nbformat_minor": 2
}
