{
 "cells": [
  {
   "cell_type": "code",
   "execution_count": 1,
   "metadata": {},
   "outputs": [],
   "source": [
    "%load_ext autoreload\n",
    "%autoreload 2"
   ]
  },
  {
   "cell_type": "code",
   "execution_count": 2,
   "metadata": {},
   "outputs": [],
   "source": [
    "import time\n",
    "import numpy as np\n",
    "from torch.nn.functional import one_hot\n",
    "from torchvision import datasets, transforms\n",
    "from klap import GaussianKernel, ExponentialKernel\n",
    "\n",
    "train_set = datasets.MNIST('~/data/mnist', download=False, train=True)\n",
    "test_set = datasets.MNIST('~/data/mnist/', download=False, train=False)"
   ]
  },
  {
   "cell_type": "code",
   "execution_count": 3,
   "metadata": {},
   "outputs": [],
   "source": [
    "n_train = len(train_set)\n",
    "n_test = len(test_set)\n",
    "\n",
    "x_train = train_set.data.view(n_train, 28*28).numpy().astype(float)\n",
    "mean = x_train.mean(axis=0, keepdims=True)\n",
    "std = x_train.std(axis=0, keepdims=True)\n",
    "d_eff = np.sum(std > 0)\n",
    "std[std==0] = 1\n",
    "x_train -= mean\n",
    "x_train /= std\n",
    "\n",
    "y_train = one_hot(train_set.targets).numpy().astype(float)\n",
    "\n",
    "x_test = test_set.data.view(n_test, 28*28).numpy().astype(float)\n",
    "x_test -= mean\n",
    "x_test /= std\n",
    "\n",
    "y_test = test_set.targets.numpy()"
   ]
  },
  {
   "cell_type": "code",
   "execution_count": 4,
   "metadata": {},
   "outputs": [],
   "source": [
    "sigma = np.sqrt(d_eff)\n",
    "k = 20\n",
    "ind = 10000\n",
    "p = 300\n",
    "\n",
    "sigmas = [.1 * sigma, sigma, 10*sigma]\n",
    "accuracy = np.zeros((len(sigmas), 2))\n",
    "times = np.zeros((len(sigmas), 2))\n",
    "\n",
    "for i, sigma in enumerate(sigmas):\n",
    "    # kernel = ExponentialKernel(sigma=sigma)\n",
    "    kernel = GaussianKernel(sigma=sigma)\n",
    "    for j in range(2):\n",
    "        t = time.time()\n",
    "        if j == 0:\n",
    "            kernel.fit(x_train[:ind], p=p, k=k, L_reg=1e-14, R_reg=0, inverse_L=True)\n",
    "        else:\n",
    "            kernel.fit_with_graph_laplacian(kernel.kernel, x_train[:ind], p=p, k=k, L_reg=0, R_reg=0, inverse_L=True)\n",
    "        times[i, j] = time.time() - t\n",
    "\n",
    "        phi_train = kernel.features_map(x_train)\n",
    "        mean = phi_train.mean(axis=0, keepdims=True)\n",
    "        std = phi_train.std(axis=0, keepdims=True)\n",
    "        std[std==0] = 1\n",
    "        phi_train -= mean\n",
    "        phi_train /= std\n",
    "        phi_test = kernel.features_map(x_test)\n",
    "        phi_test -= mean\n",
    "        phi_test /= std\n",
    "\n",
    "        A = phi_train.T @ phi_train\n",
    "        A += 1e-13 * np.eye(k)\n",
    "        b = phi_train.T @ y_train\n",
    "        beta = np.linalg.solve(A, b)\n",
    "\n",
    "        y_pred = (phi_test @ beta).argmax(axis=1)\n",
    "        accuracy[i, j] = np.mean(y_pred == y_test)"
   ]
  },
  {
   "cell_type": "code",
   "execution_count": 5,
   "metadata": {},
   "outputs": [
    {
     "name": "stdout",
     "output_type": "stream",
     "text": [
      "[[0.1135 0.1009]\n",
      " [0.5941 0.7542]\n",
      " [0.803  0.799 ]]\n",
      "[[2.10351014 2.86011529]\n",
      " [1.46070385 2.57164645]\n",
      " [1.40298486 2.68242002]]\n"
     ]
    }
   ],
   "source": [
    "print(accuracy)\n",
    "print(times)"
   ]
  },
  {
   "cell_type": "code",
   "execution_count": null,
   "metadata": {},
   "outputs": [],
   "source": []
  }
 ],
 "metadata": {
  "kernelspec": {
   "display_name": "dev",
   "language": "python",
   "name": "python3"
  },
  "language_info": {
   "codemirror_mode": {
    "name": "ipython",
    "version": 3
   },
   "file_extension": ".py",
   "mimetype": "text/x-python",
   "name": "python",
   "nbconvert_exporter": "python",
   "pygments_lexer": "ipython3",
   "version": "3.11.5"
  },
  "orig_nbformat": 4
 },
 "nbformat": 4,
 "nbformat_minor": 2
}
