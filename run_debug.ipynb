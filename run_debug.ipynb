{
 "cells": [
  {
   "cell_type": "code",
   "execution_count": 1,
   "metadata": {},
   "outputs": [],
   "source": [
    "%load_ext autoreload\n",
    "%autoreload 2"
   ]
  },
  {
   "cell_type": "code",
   "execution_count": 2,
   "metadata": {},
   "outputs": [],
   "source": [
    "from collections import namedtuple\n",
    "\n",
    "from grid.run import run_exp"
   ]
  },
  {
   "cell_type": "code",
   "execution_count": 8,
   "metadata": {},
   "outputs": [
    {
     "name": "stderr",
     "output_type": "stream",
     "text": [
      "10:35:35 INFO [run.py:58] {'n': 1000, 'd': 3, 'p': 100, 'kernel': 'polynomial', 'kernel_param': 3, 'graph_laplacian': 0, 'seed': 0}\n"
     ]
    }
   ],
   "source": [
    "config = {}\n",
    "config['n'] = 1000\n",
    "config['d'] = 3\n",
    "config['p'] = 100\n",
    "config['kernel'] = 'polynomial'\n",
    "config['kernel_param'] = 3\n",
    "config['graph_laplacian'] = 0\n",
    "config['seed'] = 0\n",
    "\n",
    "config['num_eigenvals'] = 10\n",
    "\n",
    "config_gen = namedtuple('Config', config)\n",
    "config = config_gen(**config)\n",
    "\n",
    "\n",
    "res = run_exp(config)"
   ]
  },
  {
   "cell_type": "code",
   "execution_count": 9,
   "metadata": {},
   "outputs": [
    {
     "data": {
      "text/plain": [
       "{'n': 1000,\n",
       " 'd': 3,\n",
       " 'p': 100,\n",
       " 'kernel': 'polynomial',\n",
       " 'kernel_param': 3,\n",
       " 'graph_laplacian': 0,\n",
       " 'seed': 0,\n",
       " 'eigenvalues': array([ 0.9971614 ,  3.64965378,  3.76954367,  3.88907014,  9.28387135,\n",
       "         9.51878882, 10.04199174, 10.40078668, 11.14284394, 19.13797547]),\n",
       " 'time': 0.0036954879760742188}"
      ]
     },
     "execution_count": 9,
     "metadata": {},
     "output_type": "execute_result"
    }
   ],
   "source": [
    "res"
   ]
  },
  {
   "cell_type": "code",
   "execution_count": 54,
   "metadata": {},
   "outputs": [
    {
     "data": {
      "text/plain": [
       "{'n': 1000000,\n",
       " 'd': 1,\n",
       " 'p': 100,\n",
       " 'kernel': 'polynomial',\n",
       " 'kernel_param': 3,\n",
       " 'graph_laplacian': 0,\n",
       " 'seed': 0,\n",
       " 'eigenvalues': array([ 2.25000000e+00,  2.25000000e+00,  7.75836161e+01,  1.05066579e+03,\n",
       "         2.99435890e+05,  2.84910567e+16, -6.61736563e+16, -6.61736563e+16,\n",
       "        -6.61736563e+16, -6.61736563e+16]),\n",
       " 'time': 1.7844557762145996}"
      ]
     },
     "execution_count": 54,
     "metadata": {},
     "output_type": "execute_result"
    }
   ],
   "source": [
    "res"
   ]
  },
  {
   "cell_type": "code",
   "execution_count": 55,
   "metadata": {},
   "outputs": [
    {
     "data": {
      "text/plain": [
       "PosixPath('/home/vivc/Code/laplacian')"
      ]
     },
     "execution_count": 55,
     "metadata": {},
     "output_type": "execute_result"
    }
   ],
   "source": [
    "from pathlib import Path\n",
    "Path.cwd()"
   ]
  },
  {
   "cell_type": "code",
   "execution_count": 6,
   "metadata": {},
   "outputs": [
    {
     "data": {
      "text/plain": [
       "array([   100,    215,    464,   1000,   2154,   4641,  10000,  21544,\n",
       "        46415, 100000])"
      ]
     },
     "execution_count": 6,
     "metadata": {},
     "output_type": "execute_result"
    }
   ],
   "source": [
    "import numpy as np\n",
    "np.unique(np.logspace(2, 5, num=10).astype(int))"
   ]
  },
  {
   "cell_type": "code",
   "execution_count": 7,
   "metadata": {},
   "outputs": [
    {
     "data": {
      "text/plain": [
       "array([  10,   31,  100,  316, 1000])"
      ]
     },
     "execution_count": 7,
     "metadata": {},
     "output_type": "execute_result"
    }
   ],
   "source": [
    "np.unique(np.logspace(1, 3, num=5).astype(int))"
   ]
  },
  {
   "cell_type": "code",
   "execution_count": null,
   "metadata": {},
   "outputs": [],
   "source": []
  }
 ],
 "metadata": {
  "kernelspec": {
   "display_name": "dev",
   "language": "python",
   "name": "python3"
  },
  "language_info": {
   "codemirror_mode": {
    "name": "ipython",
    "version": 3
   },
   "file_extension": ".py",
   "mimetype": "text/x-python",
   "name": "python",
   "nbconvert_exporter": "python",
   "pygments_lexer": "ipython3",
   "version": "3.10.4"
  },
  "orig_nbformat": 4
 },
 "nbformat": 4,
 "nbformat_minor": 2
}
